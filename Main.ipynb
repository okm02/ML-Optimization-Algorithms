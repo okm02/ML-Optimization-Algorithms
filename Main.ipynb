{
 "cells": [
  {
   "cell_type": "markdown",
   "metadata": {},
   "source": [
    "# Comparison of Optimization algorithms"
   ]
  },
  {
   "cell_type": "markdown",
   "metadata": {},
   "source": [
    "I took last semester a course on optimization algorithms, where we prove how many steps does each algorithm need to converge to an epsilon error. However the course was pure theory and I would like to see if this is mathematical prrofs apply in practice."
   ]
  },
  {
   "cell_type": "markdown",
   "metadata": {},
   "source": [
    "The algorithms can be clustered as follows: <br>\n",
    "<ol>\n",
    "    <li> First order methods </li>\n",
    "    <li> Second order and quasi newton methods</li>\n",
    "    <li> Coordinate based methods </li>\n",
    "    <li> Constrained optimization algorithms </li>\n",
    "</ol>"
   ]
  },
  {
   "cell_type": "markdown",
   "metadata": {},
   "source": [
    "The function that we are going to work with is the least squares problem , which is widely used in ML these days. The function is characterized by <br>:\n",
    "$$f(x) = \\frac{1}{2n} \\sum_{i=1}^{n} (a_i^\\top x - b_i)^2 = \\frac{1}{2n} \\|Ax - b\\|^2 $$"
   ]
  },
  {
   "cell_type": "markdown",
   "metadata": {},
   "source": [
    "where A is the data matrix and b is a bias vector"
   ]
  },
  {
   "cell_type": "code",
   "execution_count": 1,
   "metadata": {},
   "outputs": [],
   "source": [
    "import numpy as np\n",
    "from optimizers.firstOrder import First_Order_Optimizer\n",
    "from optimizers.secondOrder import Second_Order_Optimizer\n",
    "from optimizers.coordinate import Coordinate_Based_Optimizers\n",
    "from optimizers.constrained import Constrained_Optimizers\n",
    "from math import sqrt\n",
    "import matplotlib.pyplot as plt"
   ]
  },
  {
   "cell_type": "markdown",
   "metadata": {},
   "source": [
    "# DATA GENERATION"
   ]
  },
  {
   "cell_type": "code",
   "execution_count": 2,
   "metadata": {},
   "outputs": [],
   "source": [
    "def generate_data_bias(dimension,mean,std_dev):\n",
    "    A = np.random.uniform(mean,std_dev,(dimension,dimension))\n",
    "    b = np.random.uniform(mean,std_dev,dimension)\n",
    "    return A,b"
   ]
  },
  {
   "cell_type": "code",
   "execution_count": 3,
   "metadata": {},
   "outputs": [],
   "source": [
    "A,b = generate_data_bias(1000,0,1)"
   ]
  },
  {
   "cell_type": "code",
   "execution_count": 4,
   "metadata": {},
   "outputs": [
    {
     "name": "stdout",
     "output_type": "stream",
     "text": [
      "Data matrix dimension = (1000, 1000) and bias vector dimension (1000,)\n"
     ]
    }
   ],
   "source": [
    "print(\"Data matrix dimension = {} and bias vector dimension {}\".format(A.shape,b.shape))"
   ]
  },
  {
   "cell_type": "markdown",
   "metadata": {},
   "source": [
    "# Function Properties"
   ]
  },
  {
   "cell_type": "markdown",
   "metadata": {},
   "source": [
    "### Computing Smoothness"
   ]
  },
  {
   "cell_type": "markdown",
   "metadata": {},
   "source": [
    "$f(x)$ is smooth with $L = \\frac1n\\|A\\|^2$ "
   ]
  },
  {
   "cell_type": "code",
   "execution_count": 5,
   "metadata": {},
   "outputs": [],
   "source": [
    "def computing_function_smoothness(A):\n",
    "    N = A.shape[0]\n",
    "    return (1/N) * np.linalg.norm(A,2)"
   ]
  },
  {
   "cell_type": "markdown",
   "metadata": {},
   "source": [
    "### Computing Lipshitz constant"
   ]
  },
  {
   "cell_type": "markdown",
   "metadata": {},
   "source": [
    "Lipschitz constant $\\|\\nabla f(x)\\| \\leq \\frac{1}{n} (\\|A^\\top A\\|\\|x\\| + \\|A^\\top Ab\\|)$"
   ]
  },
  {
   "cell_type": "code",
   "execution_count": 6,
   "metadata": {},
   "outputs": [],
   "source": [
    "def lipshitz_gradient_constant(A,x,b):\n",
    "    N = A.shape[0]\n",
    "    lipshitz_cnst = (np.linalg.norm(np.dot(A.T,A),2) * np.linalg.norm(x,2)) + (np.linalg.norm(np.dot(np.dot(A.T,A),b),2))\n",
    "    return 1/N * lipshitz_cnst"
   ]
  },
  {
   "cell_type": "markdown",
   "metadata": {},
   "source": [
    "# PLOTS"
   ]
  },
  {
   "cell_type": "code",
   "execution_count": 7,
   "metadata": {},
   "outputs": [],
   "source": [
    "def plot_loss(losses,method_name):\n",
    "    \n",
    "    iterations = np.arange(0,len(losses))\n",
    "    plt.plot(iterations,losses)\n",
    "    plt.xlabel('Iterations')\n",
    "    plt.ylabel('Loss')\n",
    "    plt.title(method_name + ' performance')\n",
    "    plt.show()"
   ]
  },
  {
   "cell_type": "markdown",
   "metadata": {},
   "source": [
    "# BOUNDED GRADIENTS"
   ]
  },
  {
   "cell_type": "markdown",
   "metadata": {},
   "source": [
    "Based on theoretical analysis by bounding the gradients : $$ \\|\\nabla(x)\\|^2 < L $$ and $$ \\|x_0 - x^*\\|^2 <R $$ "
   ]
  },
  {
   "cell_type": "markdown",
   "metadata": {},
   "source": [
    "For simplicity assume that R = 25. This yields the following theoretical result:"
   ]
  },
  {
   "cell_type": "markdown",
   "metadata": {},
   "source": [
    "                        Algorithm Step Size Number of steps\n",
    "    ------------------ | -------------------------| -------------\n",
    "    GD                 | $$\\frac{R}{L\\sqrt{T}}$$  | $$ O(\\frac{1}{\\epsilon^2}) $$\n",
    "    SGD                | $$\\frac{R}{B\\sqrt{T}}$$  | $$ O(\\frac{1}{\\epsilon^2}) $$\n",
    "    Mini batch         | $$\\frac{R}{B\\sqrt{T}}$$  | $$ O(\\frac{1}{\\epsilon^2}) $$"
   ]
  },
  {
   "cell_type": "code",
   "execution_count": 8,
   "metadata": {},
   "outputs": [],
   "source": [
    "epsilon = 0.00001\n",
    "R = 25\n",
    "L = computing_function_smoothness(A)\n",
    "max_iters = 100"
   ]
  },
  {
   "cell_type": "code",
   "execution_count": 21,
   "metadata": {},
   "outputs": [],
   "source": [
    "# sgd  / gd / mini batch\n",
    "gamma = (R / (L * sqrt(max_iters))) * (0.0001)\n",
    "batches = [1,100,A.shape[0]]\n",
    "models_loss = []\n",
    "for batch in batches:\n",
    "    sgdOptimizer = First_Order_Optimizer(batch_size=batch,epsilon=epsilon,learning_rate=gamma,max_iters= max_iters)\n",
    "    _,losses = sgdOptimizer.mini_batch_stochastic_gradient_descent(A,b)\n",
    "    models_loss.append(losses)"
   ]
  },
  {
   "cell_type": "code",
   "execution_count": 22,
   "metadata": {},
   "outputs": [
    {
     "data": {
      "image/png": "[encoded data removed]",
      "text/plain": [
       "<Figure size 432x288 with 1 Axes>"
      ]
     },
     "metadata": {},
     "output_type": "display_data"
    },
    {
     "data": {
      "image/png": "[encoded data removed]",
      "text/plain": [
       "<Figure size 432x288 with 1 Axes>"
      ]
     },
     "metadata": {},
     "output_type": "display_data"
    },
    {
     "data": {
      "image/png": "[encoded data removed]",
      "text/plain": [
       "<Figure size 432x288 with 1 Axes>"
      ]
     },
     "metadata": {},
     "output_type": "display_data"
    }
   ],
   "source": [
    "models_names = ['SGD','Mini batch','GD']\n",
    "for i in range(0,len(models_loss)):\n",
    "    plot_loss(models_loss[i],models_names[i])"
   ]
  },
  {
   "cell_type": "code",
   "execution_count": 20,
   "metadata": {},
   "outputs": [
    {
     "data": {
      "image/png": "[encoded data removed]",
      "text/plain": [
       "<Figure size 432x288 with 1 Axes>"
      ]
     },
     "metadata": {},
     "output_type": "display_data"
    }
   ],
   "source": [
    "plot_loss(losses_mb,'Mini batch')"
   ]
  },
  {
   "cell_type": "markdown",
   "metadata": {},
   "source": [
    "# LIPSHITZ CONTINUIOS GRADIENTS"
   ]
  },
  {
   "cell_type": "code",
   "execution_count": null,
   "metadata": {},
   "outputs": [],
   "source": []
  },
  {
   "cell_type": "markdown",
   "metadata": {},
   "source": [
    "# STRONG CONVEXITY"
   ]
  },
  {
   "cell_type": "code",
   "execution_count": null,
   "metadata": {},
   "outputs": [],
   "source": []
  }
 ],
 "metadata": {
  "kernelspec": {
   "display_name": "Python 3",
   "language": "python",
   "name": "python3"
  },
  "language_info": {
   "codemirror_mode": {
    "name": "ipython",
    "version": 3
   },
   "file_extension": ".py",
   "mimetype": "text/x-python",
   "name": "python",
   "nbconvert_exporter": "python",
   "pygments_lexer": "ipython3",
   "version": "3.6.3"
  }
 },
 "nbformat": 4,
 "nbformat_minor": 2
}
